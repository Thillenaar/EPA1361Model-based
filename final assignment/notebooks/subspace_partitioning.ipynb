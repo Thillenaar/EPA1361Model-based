{
 "cells": [
  {
   "cell_type": "code",
   "execution_count": 13,
   "id": "817a2171-3cd1-4453-b332-df896f9df000",
   "metadata": {
    "ExecuteTime": {
     "start_time": "2023-06-11T21:53:02.783299Z",
     "end_time": "2023-06-11T21:53:03.037247Z"
    }
   },
   "outputs": [],
   "source": [
    "import pandas as pd"
   ]
  },
  {
   "cell_type": "markdown",
   "id": "1d9785c9-7907-48c3-872c-c8854bfca055",
   "metadata": {},
   "source": [
    "# Subspace partitioning"
   ]
  },
  {
   "cell_type": "markdown",
   "id": "0430035a-06ff-4c02-8c20-e372f5525a4e",
   "metadata": {},
   "source": [
    "Notebook with the purpose to process and inspecty raw output from the Dike model"
   ]
  },
  {
   "cell_type": "markdown",
   "id": "1ff95d12-fcde-4adc-8417-7ce5e6708e9c",
   "metadata": {},
   "source": [
    "## 1. Data\n",
    "- For subspace partitioning, we choose problem definition `3`, because it allows us to aggregate over planning phases, while keeping results spatially disaggregated. The former hides a level of disaggregation we are not interested in, reducing complexity. The latter helps us to put strict constraints on the outcomes for dike rings 1 and 2 specifically, which is our area of interest.\n",
    "- We are interested in using an efficient sampling method (LHS) and to produce results for about 1000 experiments to allow a high resolution input space for PRIM to operate in.\n",
    "- The above is implemented in the dike_model_simulation.py, when the CONFIG variable is set to 'subspace'. Here, we import the output. In the next step, we will define our outcomes of interests from the model output."
   ]
  },
  {
   "cell_type": "code",
   "execution_count": 14,
   "id": "a317f835-749f-4061-94f1-9b2a0fe60e29",
   "metadata": {
    "ExecuteTime": {
     "start_time": "2023-06-11T21:33:30.552885Z",
     "end_time": "2023-06-11T21:33:30.593471Z"
    }
   },
   "outputs": [
    {
     "name": "stdout",
     "output_type": "stream",
     "text": [
      "experiments is (1000, 53)\n",
      "outcome is (1000, 8)\n",
      "\n",
      "experiments\n",
      "\n",
      "0. A.0_ID flood wave shape\n",
      "1. A.1_Bmax\n",
      "2. A.1_Brate\n",
      "3. A.1_pfail\n",
      "4. A.2_Bmax\n",
      "5. A.2_Brate\n",
      "6. A.2_pfail\n",
      "7. A.3_Bmax\n",
      "8. A.3_Brate\n",
      "9. A.3_pfail\n",
      "10. A.4_Bmax\n",
      "11. A.4_Brate\n",
      "12. A.4_pfail\n",
      "13. A.5_Bmax\n",
      "14. A.5_Brate\n",
      "15. A.5_pfail\n",
      "16. discount rate 0\n",
      "17. discount rate 1\n",
      "18. discount rate 2\n",
      "19. 0_RfR 0\n",
      "20. 0_RfR 1\n",
      "21. 0_RfR 2\n",
      "22. 1_RfR 0\n",
      "23. 1_RfR 1\n",
      "24. 1_RfR 2\n",
      "25. 2_RfR 0\n",
      "26. 2_RfR 1\n",
      "27. 2_RfR 2\n",
      "28. 3_RfR 0\n",
      "29. 3_RfR 1\n",
      "30. 3_RfR 2\n",
      "31. 4_RfR 0\n",
      "32. 4_RfR 1\n",
      "33. 4_RfR 2\n",
      "34. EWS_DaysToThreat\n",
      "35. A.1_DikeIncrease 0\n",
      "36. A.1_DikeIncrease 1\n",
      "37. A.1_DikeIncrease 2\n",
      "38. A.2_DikeIncrease 0\n",
      "39. A.2_DikeIncrease 1\n",
      "40. A.2_DikeIncrease 2\n",
      "41. A.3_DikeIncrease 0\n",
      "42. A.3_DikeIncrease 1\n",
      "43. A.3_DikeIncrease 2\n",
      "44. A.4_DikeIncrease 0\n",
      "45. A.4_DikeIncrease 1\n",
      "46. A.4_DikeIncrease 2\n",
      "47. A.5_DikeIncrease 0\n",
      "48. A.5_DikeIncrease 1\n",
      "49. A.5_DikeIncrease 2\n",
      "50. scenario\n",
      "51. policy\n",
      "52. model\n",
      "\n",
      "outcomes\n",
      "\n",
      "0. A.1 Expected Annual Damage\n",
      "1. A.1 Dike Investment Costs\n",
      "2. A.1_Expected Number of Deaths\n",
      "3. A.2 Expected Annual Damage\n",
      "4. A.2 Dike Investment Costs\n",
      "5. A.2_Expected Number of Deaths\n",
      "6. RfR Total Costs\n",
      "7. Expected Evacuation Costs\n"
     ]
    }
   ],
   "source": [
    "data = '../data/experiments/'\n",
    "experiments = pd.read_csv(data+'3_experiments.csv', index_col=0)\n",
    "experiments.columns"
   ]
  },
  {
   "cell_type": "markdown",
   "id": "9777afd9-8e3b-4610-8425-d53898c9f9b7",
   "metadata": {},
   "source": [
    "There are `53` levers. \n",
    "Certain levers are disaggregated by location `(1 through 5)` and/or by planning phase `(0, 1, 2)`"
   ]
  },
  {
   "cell_type": "code",
   "execution_count": 15,
   "id": "ac38b354-89cd-4dfb-954f-ab195749d557",
   "metadata": {
    "ExecuteTime": {
     "start_time": "2023-06-11T21:33:41.018752Z",
     "end_time": "2023-06-11T21:33:41.045000Z"
    }
   },
   "outputs": [],
   "source": []
  },
  {
   "cell_type": "markdown",
   "id": "b8f5ccd2-0079-4d2a-bbc0-0bbc2ae744a7",
   "metadata": {
    "ExecuteTime": {
     "start_time": "2023-06-11T21:33:41.684820Z",
     "end_time": "2023-06-11T21:33:41.713904Z"
    }
   },
   "source": [
    "The rows are the experiments"
   ],
   "outputs": [
    {
     "data": {
      "text/plain": "            A.1 Expected Annual Damage  A.1 Dike Investment Costs   \nexperiment                                                          \n0                         2.240232e+09                          0  \\\n1                         2.645032e+09                          0   \n2                         0.000000e+00                          0   \n\n            A.1_Expected Number of Deaths  A.2 Expected Annual Damage   \nexperiment                                                              \n0                                1.895888                0.000000e+00  \\\n1                                1.895215                0.000000e+00   \n2                                0.000000                1.122133e+08   \n\n            A.2 Dike Investment Costs  A.2_Expected Number of Deaths   \nexperiment                                                             \n0                                   0                       0.000000  \\\n1                                   0                       0.000000   \n2                                   0                       0.093265   \n\n            RfR Total Costs  Expected Evacuation Costs  lower 5% - damage   \nexperiment                                                                  \n0                       0.0                        0.0              False  \\\n1                       0.0                        0.0              False   \n2                       0.0                        0.0               True   \n\n            lower 5% - deaths  all in lower 5%  \nexperiment                                      \n0                       False            False  \n1                       False            False  \n2                        True             True  ",
      "text/html": "<div>\n<style scoped>\n    .dataframe tbody tr th:only-of-type {\n        vertical-align: middle;\n    }\n\n    .dataframe tbody tr th {\n        vertical-align: top;\n    }\n\n    .dataframe thead th {\n        text-align: right;\n    }\n</style>\n<table border=\"1\" class=\"dataframe\">\n  <thead>\n    <tr style=\"text-align: right;\">\n      <th></th>\n      <th>A.1 Expected Annual Damage</th>\n      <th>A.1 Dike Investment Costs</th>\n      <th>A.1_Expected Number of Deaths</th>\n      <th>A.2 Expected Annual Damage</th>\n      <th>A.2 Dike Investment Costs</th>\n      <th>A.2_Expected Number of Deaths</th>\n      <th>RfR Total Costs</th>\n      <th>Expected Evacuation Costs</th>\n      <th>lower 5% - damage</th>\n      <th>lower 5% - deaths</th>\n      <th>all in lower 5%</th>\n    </tr>\n    <tr>\n      <th>experiment</th>\n      <th></th>\n      <th></th>\n      <th></th>\n      <th></th>\n      <th></th>\n      <th></th>\n      <th></th>\n      <th></th>\n      <th></th>\n      <th></th>\n      <th></th>\n    </tr>\n  </thead>\n  <tbody>\n    <tr>\n      <th>0</th>\n      <td>2.240232e+09</td>\n      <td>0</td>\n      <td>1.895888</td>\n      <td>0.000000e+00</td>\n      <td>0</td>\n      <td>0.000000</td>\n      <td>0.0</td>\n      <td>0.0</td>\n      <td>False</td>\n      <td>False</td>\n      <td>False</td>\n    </tr>\n    <tr>\n      <th>1</th>\n      <td>2.645032e+09</td>\n      <td>0</td>\n      <td>1.895215</td>\n      <td>0.000000e+00</td>\n      <td>0</td>\n      <td>0.000000</td>\n      <td>0.0</td>\n      <td>0.0</td>\n      <td>False</td>\n      <td>False</td>\n      <td>False</td>\n    </tr>\n    <tr>\n      <th>2</th>\n      <td>0.000000e+00</td>\n      <td>0</td>\n      <td>0.000000</td>\n      <td>1.122133e+08</td>\n      <td>0</td>\n      <td>0.093265</td>\n      <td>0.0</td>\n      <td>0.0</td>\n      <td>True</td>\n      <td>True</td>\n      <td>True</td>\n    </tr>\n  </tbody>\n</table>\n</div>"
     },
     "execution_count": 16,
     "metadata": {},
     "output_type": "execute_result"
    }
   ],
   "execution_count": 16
  },
  {
   "cell_type": "code",
   "execution_count": 17,
   "id": "c4b0c45c-41af-4c2d-b8c3-435be30d3c39",
   "metadata": {
    "ExecuteTime": {
     "start_time": "2023-06-11T21:33:49.776586Z",
     "end_time": "2023-06-11T21:33:49.792884Z"
    }
   },
   "outputs": [
    {
     "name": "stdout",
     "output_type": "stream",
     "text": [
      "Values of interest count:\n",
      "lower 5% - damage    335\n",
      "lower 5% - deaths    270\n",
      "all in lower 5%      270\n",
      "dtype: int64\n"
     ]
    }
   ],
   "source": [
    "experiments['2_RfR 1']"
   ]
  },
  {
   "cell_type": "markdown",
   "id": "f722d099-20d7-40d5-a1c6-81f47d43b4a0",
   "metadata": {
    "ExecuteTime": {
     "start_time": "2023-06-11T21:06:34.371877Z",
     "end_time": "2023-06-11T21:06:34.403003Z"
    }
   },
   "source": [
    "Results of each experiment are shown per planning phase (so three entries)\\"
   ],
   "outputs": [],
   "execution_count": 59
  },
  {
   "cell_type": "code",
   "execution_count": 18,
   "id": "0f7408df-64a6-4e36-8342-f3de88907160",
   "metadata": {
    "ExecuteTime": {
     "start_time": "2023-06-11T21:41:01.222905Z",
     "end_time": "2023-06-11T21:41:01.234131Z"
    }
   },
   "outputs": [],
   "source": [
    "outcomes = pd.read_csv(data+'5_outcomes.csv', index_col=0)\n",
    "outcomes"
   ]
  },
  {
   "cell_type": "markdown",
   "id": "7f089c7b",
   "metadata": {
    "ExecuteTime": {
     "start_time": "2023-06-11T21:41:01.589083Z",
     "end_time": "2023-06-11T21:41:01.600438Z"
    }
   },
   "source": [
    "# Problem definition 3"
   ],
   "outputs": [],
   "execution_count": 19
  },
  {
   "cell_type": "code",
   "execution_count": 20,
   "id": "7d02bb17",
   "metadata": {
    "ExecuteTime": {
     "start_time": "2023-06-11T21:41:01.963840Z",
     "end_time": "2023-06-11T21:41:01.978457Z"
    }
   },
   "outputs": [],
   "source": [
    "experiments = pd.read_csv(data+'3_experiments.csv', index_col=0)\n",
    "experiments['2_RfR 1']"
   ]
  },
  {
   "cell_type": "code",
   "execution_count": 21,
   "id": "e9888759",
   "metadata": {
    "ExecuteTime": {
     "start_time": "2023-06-11T21:41:03.285253Z",
     "end_time": "2023-06-11T21:41:03.595362Z"
    }
   },
   "outputs": [],
   "source": [
    "outcome = pd.read_csv(data+'3_outcomes.csv', index_col=0)\n",
    "outcome"
   ]
  },
  {
   "cell_type": "markdown",
   "id": "581710ab",
   "metadata": {
    "ExecuteTime": {
     "start_time": "2023-06-11T21:41:04.678830Z",
     "end_time": "2023-06-11T21:41:05.133538Z"
    }
   },
   "source": [
    "# Problem definition 4"
   ],
   "outputs": [
    {
     "data": {
      "text/plain": "<Figure size 640x480 with 2 Axes>",
      "image/png": "[encoded data removed]"
     },
     "metadata": {},
     "output_type": "display_data"
    }
   ],
   "execution_count": 22
  },
  {
   "cell_type": "code",
   "execution_count": 25,
   "id": "f757091b",
   "metadata": {
    "ExecuteTime": {
     "start_time": "2023-06-11T21:54:05.983769Z",
     "end_time": "2023-06-11T21:54:06.163423Z"
    }
   },
   "outputs": [
    {
     "data": {
      "text/plain": "[<Figure size 640x480 with 1 Axes>]"
     },
     "execution_count": 25,
     "metadata": {},
     "output_type": "execute_result"
    },
    {
     "data": {
      "text/plain": "<Figure size 640x480 with 1 Axes>",
      "image/png": "[encoded data removed]"
     },
     "metadata": {},
     "output_type": "display_data"
    }
   ],
   "source": [
    "experiments = pd.read_csv(data+'4_experiments.csv', index_col=0)\n",
    "experiments.columns"
   ]
  },
  {
   "cell_type": "code",
   "execution_count": 26,
   "id": "fa091989",
   "metadata": {
    "ExecuteTime": {
     "start_time": "2023-06-11T21:54:07.567893Z",
     "end_time": "2023-06-11T21:54:07.598764Z"
    }
   },
   "outputs": [
    {
     "data": {
      "text/plain": "                         reproduce coverage  reproduce density\nA.1_pfail                              80.0              100.0\nA.2_pfail                              80.0              100.0\nA.0_ID flood wave shape                 0.0                0.0\nA.1_Bmax                                0.0                0.0\nA.1_Brate                               0.0                0.0\nA.2_Bmax                                0.0                0.0\nA.2_Brate                               0.0                0.0\nA.3_Bmax                                0.0                0.0\nA.3_Brate                               0.0                0.0\nA.3_pfail                               0.0                0.0\nA.4_Bmax                                0.0                0.0\nA.4_Brate                               0.0                0.0\nA.4_pfail                               0.0                0.0\nA.5_Bmax                                0.0                0.0\nA.5_Brate                               0.0                0.0\nA.5_pfail                               0.0                0.0\ndiscount rate 0                         0.0                0.0\ndiscount rate 1                         0.0                0.0\ndiscount rate 2                         0.0                0.0",
      "text/html": "<div>\n<style scoped>\n    .dataframe tbody tr th:only-of-type {\n        vertical-align: middle;\n    }\n\n    .dataframe tbody tr th {\n        vertical-align: top;\n    }\n\n    .dataframe thead th {\n        text-align: right;\n    }\n</style>\n<table border=\"1\" class=\"dataframe\">\n  <thead>\n    <tr style=\"text-align: right;\">\n      <th></th>\n      <th>reproduce coverage</th>\n      <th>reproduce density</th>\n    </tr>\n  </thead>\n  <tbody>\n    <tr>\n      <th>A.1_pfail</th>\n      <td>80.0</td>\n      <td>100.0</td>\n    </tr>\n    <tr>\n      <th>A.2_pfail</th>\n      <td>80.0</td>\n      <td>100.0</td>\n    </tr>\n    <tr>\n      <th>A.0_ID flood wave shape</th>\n      <td>0.0</td>\n      <td>0.0</td>\n    </tr>\n    <tr>\n      <th>A.1_Bmax</th>\n      <td>0.0</td>\n      <td>0.0</td>\n    </tr>\n    <tr>\n      <th>A.1_Brate</th>\n      <td>0.0</td>\n      <td>0.0</td>\n    </tr>\n    <tr>\n      <th>A.2_Bmax</th>\n      <td>0.0</td>\n      <td>0.0</td>\n    </tr>\n    <tr>\n      <th>A.2_Brate</th>\n      <td>0.0</td>\n      <td>0.0</td>\n    </tr>\n    <tr>\n      <th>A.3_Bmax</th>\n      <td>0.0</td>\n      <td>0.0</td>\n    </tr>\n    <tr>\n      <th>A.3_Brate</th>\n      <td>0.0</td>\n      <td>0.0</td>\n    </tr>\n    <tr>\n      <th>A.3_pfail</th>\n      <td>0.0</td>\n      <td>0.0</td>\n    </tr>\n    <tr>\n      <th>A.4_Bmax</th>\n      <td>0.0</td>\n      <td>0.0</td>\n    </tr>\n    <tr>\n      <th>A.4_Brate</th>\n      <td>0.0</td>\n      <td>0.0</td>\n    </tr>\n    <tr>\n      <th>A.4_pfail</th>\n      <td>0.0</td>\n      <td>0.0</td>\n    </tr>\n    <tr>\n      <th>A.5_Bmax</th>\n      <td>0.0</td>\n      <td>0.0</td>\n    </tr>\n    <tr>\n      <th>A.5_Brate</th>\n      <td>0.0</td>\n      <td>0.0</td>\n    </tr>\n    <tr>\n      <th>A.5_pfail</th>\n      <td>0.0</td>\n      <td>0.0</td>\n    </tr>\n    <tr>\n      <th>discount rate 0</th>\n      <td>0.0</td>\n      <td>0.0</td>\n    </tr>\n    <tr>\n      <th>discount rate 1</th>\n      <td>0.0</td>\n      <td>0.0</td>\n    </tr>\n    <tr>\n      <th>discount rate 2</th>\n      <td>0.0</td>\n      <td>0.0</td>\n    </tr>\n  </tbody>\n</table>\n</div>"
     },
     "execution_count": 26,
     "metadata": {},
     "output_type": "execute_result"
    }
   ],
   "source": [
    "outcomes = pd.read_csv(data+'4_outcomes.csv', index_col=0)\n",
    "outcomes"
   ]
  }
 ],
 "metadata": {
  "kernelspec": {
   "display_name": "EPA1361",
   "language": "python",
   "name": "epa1361"
  },
  "language_info": {
   "codemirror_mode": {
    "name": "ipython",
    "version": 3
   },
   "file_extension": ".py",
   "mimetype": "text/x-python",
   "name": "python",
   "nbconvert_exporter": "python",
   "pygments_lexer": "ipython3",
   "version": "3.11.3"
  }
 },
 "nbformat": 4,
 "nbformat_minor": 5
}
