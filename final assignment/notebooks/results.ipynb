{
 "cells": [
  {
   "cell_type": "code",
   "execution_count": 2,
   "id": "817a2171-3cd1-4453-b332-df896f9df000",
   "metadata": {},
   "outputs": [],
   "source": [
    "import pandas as pd"
   ]
  },
  {
   "cell_type": "markdown",
   "id": "1d9785c9-7907-48c3-872c-c8854bfca055",
   "metadata": {},
   "source": [
    "# Results"
   ]
  },
  {
   "cell_type": "markdown",
   "id": "0430035a-06ff-4c02-8c20-e372f5525a4e",
   "metadata": {},
   "source": [
    "Notebook with the purpose to process and inspecty raw output from the Dike model"
   ]
  },
  {
   "cell_type": "markdown",
   "id": "1ff95d12-fcde-4adc-8417-7ce5e6708e9c",
   "metadata": {},
   "source": [
    "## First impression"
   ]
  },
  {
   "cell_type": "markdown",
   "id": "868f72ac-5f5d-4cde-94f0-5604cfdbcbeb",
   "metadata": {},
   "source": [
    "To get a first impression, I exported results with default settings, problem definition 5 and in a quite exhausting data format with seperate .csv files for each experiment"
   ]
  },
  {
   "cell_type": "code",
   "execution_count": 3,
   "id": "a317f835-749f-4061-94f1-9b2a0fe60e29",
   "metadata": {},
   "outputs": [],
   "source": [
    "data = '../data/experiments/'"
   ]
  },
  {
   "cell_type": "markdown",
   "id": "9777afd9-8e3b-4610-8425-d53898c9f9b7",
   "metadata": {},
   "source": [
    "There are `53` levers. \n",
    "Certain levers are disaggregated by location `(1 through 5)` and/or by planning phase `(0, 1, 2)`"
   ]
  },
  {
   "cell_type": "code",
   "execution_count": 5,
   "id": "ac38b354-89cd-4dfb-954f-ab195749d557",
   "metadata": {},
   "outputs": [
    {
     "data": {
      "text/plain": [
       "Index(['discount rate 0', 'discount rate 1', 'discount rate 2',\n",
       "       'A.0_ID flood wave shape', 'A.1_Bmax', 'A.1_pfail', 'A.1_Brate',\n",
       "       'A.2_Bmax', 'A.2_pfail', 'A.2_Brate', 'A.3_Bmax', 'A.3_pfail',\n",
       "       'A.3_Brate', 'A.4_Bmax', 'A.4_pfail', 'A.4_Brate', 'A.5_Bmax',\n",
       "       'A.5_pfail', 'A.5_Brate', '0_RfR 0', '0_RfR 1', '0_RfR 2', '1_RfR 0',\n",
       "       '1_RfR 1', '1_RfR 2', '2_RfR 0', '2_RfR 1', '2_RfR 2', '3_RfR 0',\n",
       "       '3_RfR 1', '3_RfR 2', '4_RfR 0', '4_RfR 1', '4_RfR 2',\n",
       "       'A.1_DikeIncrease 0', 'A.1_DikeIncrease 1', 'A.1_DikeIncrease 2',\n",
       "       'A.2_DikeIncrease 0', 'A.2_DikeIncrease 1', 'A.2_DikeIncrease 2',\n",
       "       'A.3_DikeIncrease 0', 'A.3_DikeIncrease 1', 'A.3_DikeIncrease 2',\n",
       "       'A.4_DikeIncrease 0', 'A.4_DikeIncrease 1', 'A.4_DikeIncrease 2',\n",
       "       'A.5_DikeIncrease 0', 'A.5_DikeIncrease 1', 'A.5_DikeIncrease 2',\n",
       "       'EWS_DaysToThreat', 'scenario', 'policy', 'model'],\n",
       "      dtype='object')"
      ]
     },
     "execution_count": 5,
     "metadata": {},
     "output_type": "execute_result"
    }
   ],
   "source": [
    "experiments = pd.read_csv(data+'experiments.csv', index_col=0)\n",
    "experiments.columns"
   ]
  },
  {
   "cell_type": "markdown",
   "id": "b8f5ccd2-0079-4d2a-bbc0-0bbc2ae744a7",
   "metadata": {},
   "source": [
    "The rows are the experiments"
   ]
  },
  {
   "cell_type": "code",
   "execution_count": 18,
   "id": "c4b0c45c-41af-4c2d-b8c3-435be30d3c39",
   "metadata": {},
   "outputs": [
    {
     "data": {
      "text/plain": [
       "0    1\n",
       "1    0\n",
       "2    1\n",
       "3    1\n",
       "4    0\n",
       "Name: 2_RfR 1, dtype: int64"
      ]
     },
     "execution_count": 18,
     "metadata": {},
     "output_type": "execute_result"
    }
   ],
   "source": [
    "experiments['2_RfR 1']"
   ]
  },
  {
   "cell_type": "markdown",
   "id": "f722d099-20d7-40d5-a1c6-81f47d43b4a0",
   "metadata": {},
   "source": [
    "Results of each experiment are shown per planning phase (so three entries)\\"
   ]
  },
  {
   "cell_type": "code",
   "execution_count": 14,
   "id": "0f7408df-64a6-4e36-8342-f3de88907160",
   "metadata": {},
   "outputs": [
    {
     "data": {
      "text/html": [
       "<div>\n",
       "<style scoped>\n",
       "    .dataframe tbody tr th:only-of-type {\n",
       "        vertical-align: middle;\n",
       "    }\n",
       "\n",
       "    .dataframe tbody tr th {\n",
       "        vertical-align: top;\n",
       "    }\n",
       "\n",
       "    .dataframe thead th {\n",
       "        text-align: right;\n",
       "    }\n",
       "</style>\n",
       "<table border=\"1\" class=\"dataframe\">\n",
       "  <thead>\n",
       "    <tr style=\"text-align: right;\">\n",
       "      <th></th>\n",
       "      <th>A.1_Expected Annual Damage</th>\n",
       "      <th>A.1_Dike Investment Costs</th>\n",
       "      <th>A.1_Expected Number of Deaths</th>\n",
       "      <th>A.2_Expected Annual Damage</th>\n",
       "      <th>A.2_Dike Investment Costs</th>\n",
       "      <th>A.2_Expected Number of Deaths</th>\n",
       "      <th>A.3_Expected Annual Damage</th>\n",
       "      <th>A.3_Dike Investment Costs</th>\n",
       "      <th>A.3_Expected Number of Deaths</th>\n",
       "      <th>A.4_Expected Annual Damage</th>\n",
       "      <th>A.4_Dike Investment Costs</th>\n",
       "      <th>A.4_Expected Number of Deaths</th>\n",
       "      <th>A.5_Expected Annual Damage</th>\n",
       "      <th>A.5_Dike Investment Costs</th>\n",
       "      <th>A.5_Expected Number of Deaths</th>\n",
       "      <th>RfR Total Costs</th>\n",
       "      <th>Expected Evacuation Costs</th>\n",
       "    </tr>\n",
       "  </thead>\n",
       "  <tbody>\n",
       "    <tr>\n",
       "      <th>0</th>\n",
       "      <td>0.0</td>\n",
       "      <td>4.229151e+07</td>\n",
       "      <td>0.0</td>\n",
       "      <td>0.0</td>\n",
       "      <td>8.999201e+07</td>\n",
       "      <td>0.0</td>\n",
       "      <td>0.0</td>\n",
       "      <td>2.419803e+07</td>\n",
       "      <td>0.0</td>\n",
       "      <td>0.0</td>\n",
       "      <td>1.426165e+07</td>\n",
       "      <td>0.0</td>\n",
       "      <td>0.0</td>\n",
       "      <td>5.311400e+07</td>\n",
       "      <td>0.0</td>\n",
       "      <td>339000000.0</td>\n",
       "      <td>0.0</td>\n",
       "    </tr>\n",
       "    <tr>\n",
       "      <th>1</th>\n",
       "      <td>0.0</td>\n",
       "      <td>0.000000e+00</td>\n",
       "      <td>0.0</td>\n",
       "      <td>0.0</td>\n",
       "      <td>5.793770e+07</td>\n",
       "      <td>0.0</td>\n",
       "      <td>0.0</td>\n",
       "      <td>2.245214e+07</td>\n",
       "      <td>0.0</td>\n",
       "      <td>0.0</td>\n",
       "      <td>9.276268e+06</td>\n",
       "      <td>0.0</td>\n",
       "      <td>0.0</td>\n",
       "      <td>3.731617e+07</td>\n",
       "      <td>0.0</td>\n",
       "      <td>236500000.0</td>\n",
       "      <td>0.0</td>\n",
       "    </tr>\n",
       "    <tr>\n",
       "      <th>2</th>\n",
       "      <td>0.0</td>\n",
       "      <td>4.677675e+07</td>\n",
       "      <td>0.0</td>\n",
       "      <td>0.0</td>\n",
       "      <td>6.196491e+07</td>\n",
       "      <td>0.0</td>\n",
       "      <td>0.0</td>\n",
       "      <td>0.000000e+00</td>\n",
       "      <td>0.0</td>\n",
       "      <td>0.0</td>\n",
       "      <td>2.758210e+07</td>\n",
       "      <td>0.0</td>\n",
       "      <td>0.0</td>\n",
       "      <td>8.419063e+07</td>\n",
       "      <td>0.0</td>\n",
       "      <td>558500000.0</td>\n",
       "      <td>0.0</td>\n",
       "    </tr>\n",
       "  </tbody>\n",
       "</table>\n",
       "</div>"
      ],
      "text/plain": [
       "   A.1_Expected Annual Damage  A.1_Dike Investment Costs   \n",
       "0                         0.0               4.229151e+07  \\\n",
       "1                         0.0               0.000000e+00   \n",
       "2                         0.0               4.677675e+07   \n",
       "\n",
       "   A.1_Expected Number of Deaths  A.2_Expected Annual Damage   \n",
       "0                            0.0                         0.0  \\\n",
       "1                            0.0                         0.0   \n",
       "2                            0.0                         0.0   \n",
       "\n",
       "   A.2_Dike Investment Costs  A.2_Expected Number of Deaths   \n",
       "0               8.999201e+07                            0.0  \\\n",
       "1               5.793770e+07                            0.0   \n",
       "2               6.196491e+07                            0.0   \n",
       "\n",
       "   A.3_Expected Annual Damage  A.3_Dike Investment Costs   \n",
       "0                         0.0               2.419803e+07  \\\n",
       "1                         0.0               2.245214e+07   \n",
       "2                         0.0               0.000000e+00   \n",
       "\n",
       "   A.3_Expected Number of Deaths  A.4_Expected Annual Damage   \n",
       "0                            0.0                         0.0  \\\n",
       "1                            0.0                         0.0   \n",
       "2                            0.0                         0.0   \n",
       "\n",
       "   A.4_Dike Investment Costs  A.4_Expected Number of Deaths   \n",
       "0               1.426165e+07                            0.0  \\\n",
       "1               9.276268e+06                            0.0   \n",
       "2               2.758210e+07                            0.0   \n",
       "\n",
       "   A.5_Expected Annual Damage  A.5_Dike Investment Costs   \n",
       "0                         0.0               5.311400e+07  \\\n",
       "1                         0.0               3.731617e+07   \n",
       "2                         0.0               8.419063e+07   \n",
       "\n",
       "   A.5_Expected Number of Deaths  RfR Total Costs  Expected Evacuation Costs  \n",
       "0                            0.0      339000000.0                        0.0  \n",
       "1                            0.0      236500000.0                        0.0  \n",
       "2                            0.0      558500000.0                        0.0  "
      ]
     },
     "execution_count": 14,
     "metadata": {},
     "output_type": "execute_result"
    }
   ],
   "source": [
    "outcome_0 = pd.read_csv(data+'outcome_0.csv', index_col=0)\n",
    "outcome_0"
   ]
  },
  {
   "cell_type": "code",
   "execution_count": null,
   "id": "ac35751b-7081-43ae-94f0-6d9560af7f40",
   "metadata": {},
   "outputs": [],
   "source": []
  }
 ],
 "metadata": {
  "kernelspec": {
   "display_name": "EPA1361",
   "language": "python",
   "name": "epa1361"
  },
  "language_info": {
   "codemirror_mode": {
    "name": "ipython",
    "version": 3
   },
   "file_extension": ".py",
   "mimetype": "text/x-python",
   "name": "python",
   "nbconvert_exporter": "python",
   "pygments_lexer": "ipython3",
   "version": "3.11.3"
  }
 },
 "nbformat": 4,
 "nbformat_minor": 5
}
